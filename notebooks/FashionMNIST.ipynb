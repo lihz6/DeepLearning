{
 "cells": [
  {
   "cell_type": "code",
   "execution_count": 1,
   "id": "4abcc2ce-d41b-4e81-8211-743d35dd2c24",
   "metadata": {},
   "outputs": [],
   "source": [
    "import torch\n",
    "from torch import nn\n",
    "from torch.utils.data import DataLoader\n",
    "from torchvision import datasets\n",
    "from torchvision.transforms import ToTensor"
   ]
  },
  {
   "cell_type": "code",
   "execution_count": null,
   "id": "88e0128c-34cd-4c5c-96c7-51a0db771d47",
   "metadata": {},
   "outputs": [],
   "source": [
    "training_data = datasets.FashionMNIST(\n",
    "    root=\".data\",\n",
    "    train=True,\n",
    "    download=True,\n",
    "    transform=ToTensor(),\n",
    ")\n",
    "test_data = datasets.FashionMNIST(\n",
    "    root=\".data\",\n",
    "    train=False,\n",
    "    download=True,\n",
    "    transform=ToTensor(),\n",
    ")"
   ]
  },
  {
   "cell_type": "code",
   "execution_count": 3,
   "id": "2a83bb80-0a0f-4ae0-89a5-7cd16c98bb2f",
   "metadata": {},
   "outputs": [
    {
     "name": "stdout",
     "output_type": "stream",
     "text": [
      "Shape of X [N, C, H, W]: torch.Size([64, 1, 28, 28])\n",
      "Shape of y [N]: torch.Size([64]) torch.int64\n"
     ]
    }
   ],
   "source": [
    "batch_size = 64\n",
    "train_dataloader = DataLoader(training_data, batch_size=batch_size)\n",
    "test_dataloader = DataLoader(test_data, batch_size=batch_size)\n",
    "\n",
    "for X, y in test_dataloader:\n",
    "    print(f\"Shape of X [N, C, H, W]: {X.shape}\")\n",
    "    print(f\"Shape of y [N]: {y.shape} {y.dtype}\")\n",
    "    break"
   ]
  },
  {
   "cell_type": "code",
   "execution_count": 4,
   "id": "de9809f2-8bf2-43a5-b11a-a177b843eec7",
   "metadata": {},
   "outputs": [
    {
     "name": "stdout",
     "output_type": "stream",
     "text": [
      "Using mps device\n"
     ]
    }
   ],
   "source": [
    "device = (\n",
    "    torch.accelerator.current_accelerator().type\n",
    "    if torch.accelerator.is_available()\n",
    "    else \"cpu\"\n",
    ")\n",
    "print(f\"Using {device} device\")"
   ]
  },
  {
   "cell_type": "code",
   "execution_count": 5,
   "id": "715a8f7a-9eb8-475c-a17c-977119ac2c97",
   "metadata": {},
   "outputs": [],
   "source": [
    "class NeuralNetwork(nn.Module):\n",
    "    def __init__(self):\n",
    "        super().__init__()\n",
    "        self.flatten = nn.Flatten()\n",
    "        self.linear_relu_stack = nn.Sequential(\n",
    "            nn.Linear(28 * 28, 512),\n",
    "            nn.ReLU(),\n",
    "            nn.Linear(512, 512),\n",
    "            nn.ReLU(),\n",
    "            nn.Linear(512, 10),\n",
    "        )\n",
    "\n",
    "    def forward(self, x):\n",
    "        x = self.flatten(x)\n",
    "        logits = self.linear_relu_stack(x)\n",
    "        return logits"
   ]
  },
  {
   "cell_type": "code",
   "execution_count": 6,
   "id": "7ff497e9-9894-4cc3-b08c-ad6f2fe8ca7d",
   "metadata": {},
   "outputs": [
    {
     "name": "stdout",
     "output_type": "stream",
     "text": [
      "NeuralNetwork(\n",
      "  (flatten): Flatten(start_dim=1, end_dim=-1)\n",
      "  (linear_relu_stack): Sequential(\n",
      "    (0): Linear(in_features=784, out_features=512, bias=True)\n",
      "    (1): ReLU()\n",
      "    (2): Linear(in_features=512, out_features=512, bias=True)\n",
      "    (3): ReLU()\n",
      "    (4): Linear(in_features=512, out_features=10, bias=True)\n",
      "  )\n",
      ")\n"
     ]
    }
   ],
   "source": [
    "model = NeuralNetwork().to(device)\n",
    "loss_fn = nn.CrossEntropyLoss()\n",
    "optimizer = torch.optim.SGD(model.parameters(), lr=1e-3)\n",
    "print(model)"
   ]
  },
  {
   "cell_type": "code",
   "execution_count": 7,
   "id": "2d6e90ad-2ce9-4de5-8706-d5b03f156ab7",
   "metadata": {},
   "outputs": [],
   "source": [
    "def train(dataloader, model, loss_fn, optimizer):\n",
    "    size = len(dataloader.dataset)\n",
    "    model.train()\n",
    "    for batch, (X, y) in enumerate(dataloader):\n",
    "        X, y = X.to(device), y.to(device)\n",
    "\n",
    "        # forward pass\n",
    "        pred = model(X)\n",
    "        loss = loss_fn(pred, y)\n",
    "\n",
    "        # backward\n",
    "        loss.backward()\n",
    "\n",
    "        # update parameters\n",
    "        optimizer.step()\n",
    "        optimizer.zero_grad()\n",
    "\n",
    "        if batch % 100 == 0:\n",
    "            loss, current = loss.item(), (batch + 1) * len(X)\n",
    "            print(f\"loss: {loss:>7f}  [{current:>5d}/{size:>5d}]\")"
   ]
  },
  {
   "cell_type": "code",
   "execution_count": 8,
   "id": "5f50aefe-9480-4c64-bfca-689a692b24c1",
   "metadata": {},
   "outputs": [],
   "source": [
    "def test(dataloader, model, loss_fn):\n",
    "    size = len(dataloader.dataset)\n",
    "    num_batches = len(dataloader)\n",
    "    model.eval()\n",
    "    test_loss, correct = 0, 0\n",
    "    with torch.no_grad():\n",
    "        for X, y in dataloader:\n",
    "            X, y = X.to(device), y.to(device)\n",
    "            pred = model(X)\n",
    "            test_loss += loss_fn(pred, y).item()\n",
    "            correct += (pred.argmax(1) == y).sum().item()\n",
    "    test_loss /= num_batches\n",
    "    correct /= size\n",
    "    print(\n",
    "        f\"Test Error: \\n Accuracy: {(100*correct):>0.1f}%, Avg loss: {test_loss:>8f} \\n\"\n",
    "    )"
   ]
  },
  {
   "cell_type": "code",
   "execution_count": 9,
   "id": "4a357f32-7f7c-4b02-a07d-73bd80787ff8",
   "metadata": {},
   "outputs": [
    {
     "name": "stdout",
     "output_type": "stream",
     "text": [
      "Epoch 1\n",
      "-------------------------------\n",
      "loss: 2.291601  [   64/60000]\n",
      "loss: 2.287290  [ 6464/60000]\n",
      "loss: 2.269723  [12864/60000]\n",
      "loss: 2.269533  [19264/60000]\n",
      "loss: 2.246790  [25664/60000]\n",
      "loss: 2.225793  [32064/60000]\n",
      "loss: 2.225652  [38464/60000]\n",
      "loss: 2.195653  [44864/60000]\n",
      "loss: 2.192058  [51264/60000]\n",
      "loss: 2.157236  [57664/60000]\n",
      "Test Error: \n",
      " Accuracy: 48.0%, Avg loss: 2.157606 \n",
      "\n",
      "Epoch 2\n",
      "-------------------------------\n",
      "loss: 2.163537  [   64/60000]\n",
      "loss: 2.159206  [ 6464/60000]\n",
      "loss: 2.101768  [12864/60000]\n",
      "loss: 2.119287  [19264/60000]\n",
      "loss: 2.062672  [25664/60000]\n",
      "loss: 2.011962  [32064/60000]\n",
      "loss: 2.026266  [38464/60000]\n",
      "loss: 1.956980  [44864/60000]\n",
      "loss: 1.955954  [51264/60000]\n",
      "loss: 1.876864  [57664/60000]\n",
      "Test Error: \n",
      " Accuracy: 60.6%, Avg loss: 1.886788 \n",
      "\n",
      "Epoch 3\n",
      "-------------------------------\n",
      "loss: 1.916157  [   64/60000]\n",
      "loss: 1.891329  [ 6464/60000]\n",
      "loss: 1.775403  [12864/60000]\n",
      "loss: 1.814810  [19264/60000]\n",
      "loss: 1.701715  [25664/60000]\n",
      "loss: 1.665616  [32064/60000]\n",
      "loss: 1.669988  [38464/60000]\n",
      "loss: 1.587562  [44864/60000]\n",
      "loss: 1.601657  [51264/60000]\n",
      "loss: 1.492573  [57664/60000]\n",
      "Test Error: \n",
      " Accuracy: 61.1%, Avg loss: 1.524238 \n",
      "\n",
      "Epoch 4\n",
      "-------------------------------\n",
      "loss: 1.586957  [   64/60000]\n",
      "loss: 1.559272  [ 6464/60000]\n",
      "loss: 1.410400  [12864/60000]\n",
      "loss: 1.481153  [19264/60000]\n",
      "loss: 1.359150  [25664/60000]\n",
      "loss: 1.363943  [32064/60000]\n",
      "loss: 1.363541  [38464/60000]\n",
      "loss: 1.303043  [44864/60000]\n",
      "loss: 1.329649  [51264/60000]\n",
      "loss: 1.224895  [57664/60000]\n",
      "Test Error: \n",
      " Accuracy: 62.5%, Avg loss: 1.262346 \n",
      "\n",
      "Epoch 5\n",
      "-------------------------------\n",
      "loss: 1.339489  [   64/60000]\n",
      "loss: 1.324822  [ 6464/60000]\n",
      "loss: 1.157868  [12864/60000]\n",
      "loss: 1.262658  [19264/60000]\n",
      "loss: 1.133701  [25664/60000]\n",
      "loss: 1.164075  [32064/60000]\n",
      "loss: 1.173998  [38464/60000]\n",
      "loss: 1.122407  [44864/60000]\n",
      "loss: 1.154879  [51264/60000]\n",
      "loss: 1.064033  [57664/60000]\n",
      "Test Error: \n",
      " Accuracy: 63.9%, Avg loss: 1.096893 \n",
      "\n",
      "Done!\n"
     ]
    }
   ],
   "source": [
    "epochs = 5\n",
    "for t in range(epochs):\n",
    "    print(f\"Epoch {t+1}\\n-------------------------------\")\n",
    "    train(train_dataloader, model, loss_fn, optimizer)\n",
    "    test(test_dataloader, model, loss_fn)\n",
    "print(\"Done!\")"
   ]
  }
 ],
 "metadata": {
  "kernelspec": {
   "display_name": "Python 3 (ipykernel)",
   "language": "python",
   "name": "python3"
  },
  "language_info": {
   "codemirror_mode": {
    "name": "ipython",
    "version": 3
   },
   "file_extension": ".py",
   "mimetype": "text/x-python",
   "name": "python",
   "nbconvert_exporter": "python",
   "pygments_lexer": "ipython3",
   "version": "3.13.5"
  }
 },
 "nbformat": 4,
 "nbformat_minor": 5
}
